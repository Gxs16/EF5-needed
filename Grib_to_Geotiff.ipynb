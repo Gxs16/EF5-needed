{
 "cells": [
  {
   "cell_type": "markdown",
   "metadata": {},
   "source": [
    "# Grib to Geotiff\n",
    "Unzip the .gz files and convert them to geotiff format"
   ]
  },
  {
   "cell_type": "code",
   "execution_count": null,
   "metadata": {},
   "outputs": [],
   "source": [
    "import pygrib as pg\n",
    "import gzip\n",
    "from osgeo import gdal, ogr\n",
    "import os\n",
    "import re\n",
    "import shutil\n",
    "import numpy as np"
   ]
  },
  {
   "cell_type": "code",
   "execution_count": null,
   "metadata": {},
   "outputs": [],
   "source": [
    "file_directory = []\n",
    "for root, dirs,files in os.walk('mtarchive.geol.iastate.edu/2016'):\n",
    "    for name in files:\n",
    "        file_directory.append(os.path.join(root,name))\n",
    "suffix = re.compile(r'.gz$')\n",
    "old_files = list(filter(suffix.search, file_directory))\n",
    "for file in old_files:\n",
    "    shutil.move(file,'precip/')"
   ]
  },
  {
   "cell_type": "code",
   "execution_count": null,
   "metadata": {
    "scrolled": true
   },
   "outputs": [],
   "source": [
    "files = os.listdir('precip/')\n",
    "for filename in files:\n",
    "    files_decompression = filename.replace('.gz','')\n",
    "    with gzip.open('precip/'+filename) as f:\n",
    "        open('precip/'+files_decompression,'wb').write(f.read())"
   ]
  },
  {
   "cell_type": "code",
   "execution_count": null,
   "metadata": {},
   "outputs": [],
   "source": [
    "for filename in files:\n",
    "    os.remove('precip/'+filename)"
   ]
  },
  {
   "cell_type": "code",
   "execution_count": null,
   "metadata": {},
   "outputs": [],
   "source": [
    "file = os.listdir('precip/')\n",
    "\n",
    "Shape_name = 'example_basin.shp'\n",
    "Reproj = 'EPSG:4269'\n",
    "File_format = 'GTiff'\n",
    "datatype = gdal.GDT_Float32\n",
    "Nodata_value = -9999\n",
    "Create_opt = ['COMPRESS=LZW','NUM_THREADS=ALL_CPUS','PREDICTOR=3']\n",
    "\n",
    "Warp_opt = gdal.WarpOptions(format=File_format, outputType=gdal.GDT_Float32,dstNodata=Nodata_value, \\\n",
    "                            dstSRS=Reproj, creationOptions=Create_opt, cutlineDSName=Shape_name, \\\n",
    "                            cropToCutline=True)\n",
    "\n",
    "for name in file:\n",
    "    out = name.replace('grib2','tif')\n",
    "    gdal.Warp('precip/'+out, 'precip/'+name, options=Warp_opt)\n",
    "\n",
    "    "
   ]
  },
  {
   "cell_type": "code",
   "execution_count": null,
   "metadata": {
    "scrolled": true
   },
   "outputs": [],
   "source": [
    "file = os.listdir('precip/')\n",
    "suffix = re.compile(r'.grib2$')\n",
    "file_remove = list(filter(suffix.search,file))\n",
    "for file in file_remove:\n",
    "    os.remove('precip/'+file)"
   ]
  },
  {
   "cell_type": "code",
   "execution_count": null,
   "metadata": {},
   "outputs": [],
   "source": [
    "files =os.listdir('precip')#GaugeCorr_QPE_01H_00.00_20160101-000000.tif'\n",
    "for name in files:\n",
    "    new_name = 'EX_'+name[24:32]+name[33:35]+name[-4:]\n",
    "    os.rename('precip/'+name,'precip/'+new_name)"
   ]
  },
  {
   "cell_type": "code",
   "execution_count": null,
   "metadata": {},
   "outputs": [],
   "source": [
    "files = os.listdir('precip')\n",
    "for name in files:\n",
    "    os.rename('precip/'+name,'precip/'+name+'.tif')"
   ]
  }
 ],
 "metadata": {
  "kernelspec": {
   "display_name": "Python 3",
   "language": "python",
   "name": "python3"
  },
  "language_info": {
   "codemirror_mode": {
    "name": "ipython",
    "version": 3
   },
   "file_extension": ".py",
   "mimetype": "text/x-python",
   "name": "python",
   "nbconvert_exporter": "python",
   "pygments_lexer": "ipython3",
   "version": "3.7.3"
  }
 },
 "nbformat": 4,
 "nbformat_minor": 2
}
