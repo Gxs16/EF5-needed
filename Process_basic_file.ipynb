{
 "cells": [
  {
   "cell_type": "markdown",
   "metadata": {},
   "source": [
    "# Process_basic_file\n",
    "Process dem, ddm, fac"
   ]
  },
  {
   "cell_type": "code",
   "execution_count": 1,
   "metadata": {},
   "outputs": [],
   "source": [
    "from osgeo import ogr, gdal\n",
    "import subprocess\n",
    "import os "
   ]
  },
  {
   "cell_type": "code",
   "execution_count": 2,
   "metadata": {},
   "outputs": [
    {
     "data": {
      "text/plain": [
       "<osgeo.gdal.Dataset; proxy of <Swig Object of type 'GDALDatasetShadow *' at 0x7fb7f828b450> >"
      ]
     },
     "execution_count": 2,
     "metadata": {},
     "output_type": "execute_result"
    }
   ],
   "source": [
    "Shape_name = 'example_basin.shp'\n",
    "OutputFile = 'dem.tif'\n",
    "InputFile = 'na_dem_30s.bil'\n",
    "Reproj = 'EPSG:4269'\n",
    "File_format = 'GTiff'\n",
    "datatype = gdal.GDT_Float32\n",
    "Nodata_value = -9999\n",
    "Create_opt = ['COMPRESS=LZW','NUM_THREADS=ALL_CPUS','PREDICTOR=3']\n",
    "\n",
    "Warp_opt = gdal.WarpOptions(format=File_format, outputType=gdal.GDT_Float32,dstNodata=Nodata_value, \\\n",
    "                            dstSRS=Reproj, creationOptions=Create_opt,cutlineDSName=Shape_name, cropToCutline=True)\n",
    "\n",
    "gdal.Warp(OutputFile, InputFile,options=Warp_opt)\n"
   ]
  },
  {
   "cell_type": "code",
   "execution_count": 14,
   "metadata": {},
   "outputs": [
    {
     "name": "stdout",
     "output_type": "stream",
     "text": [
      "[[-9999. -9999. -9999. -9999. -9999. -9999. -9999. -9999. -9999. -9999.\n",
      "  -9999. -9999. -9999. -9999. -9999. -9999. -9999. -9999.]\n",
      " [-9999. -9999. -9999. -9999. -9999. -9999. -9999. -9999.    70.    69.\n",
      "     70.    64. -9999. -9999. -9999. -9999. -9999. -9999.]\n",
      " [-9999. -9999. -9999.    73.    71.    72.    75.    71.    69.    67.\n",
      "     67.    61. -9999. -9999. -9999. -9999. -9999. -9999.]\n",
      " [   73.    72.    71.    71.    71.    69.    68.    67.    66.    65.\n",
      "     64.    58.    65.    69. -9999. -9999. -9999. -9999.]\n",
      " [-9999. -9999.    74.    68.    71.    67.    63.    61.    65.    65.\n",
      "     64.    58.    59.    65.    59.    54. -9999. -9999.]\n",
      " [-9999. -9999. -9999.    70.    66.    67.    67.    62.    60.    61.\n",
      "     61.    60.    53.    55.    54.    54.    54. -9999.]\n",
      " [-9999. -9999. -9999. -9999. -9999. -9999.    70.    67.    63.    60.\n",
      "     55.    52.    50.    50.    50.    52.    55. -9999.]\n",
      " [-9999. -9999. -9999. -9999. -9999. -9999. -9999. -9999.    66.    63.\n",
      "     56.    52.    51.    52.    54.    54.    51.    52.]\n",
      " [-9999. -9999. -9999. -9999. -9999. -9999. -9999. -9999. -9999. -9999.\n",
      "     60.    54.    55. -9999. -9999. -9999.    48. -9999.]\n",
      " [-9999. -9999. -9999. -9999. -9999. -9999. -9999. -9999. -9999. -9999.\n",
      "  -9999.    57. -9999. -9999. -9999. -9999. -9999. -9999.]]\n"
     ]
    }
   ],
   "source": [
    "print(gdal.Open('dem.tif').ReadAsArray())"
   ]
  },
  {
   "cell_type": "code",
   "execution_count": 3,
   "metadata": {},
   "outputs": [
    {
     "data": {
      "text/plain": [
       "<osgeo.gdal.Dataset; proxy of <Swig Object of type 'GDALDatasetShadow *' at 0x7fb7d51b23c0> >"
      ]
     },
     "execution_count": 3,
     "metadata": {},
     "output_type": "execute_result"
    }
   ],
   "source": [
    "Shape_name = 'example_basin.shp'\n",
    "OutputFile = 'fac.tif'\n",
    "InputFile = 'na_acc_30s.bil'\n",
    "Reproj = 'EPSG:4269'\n",
    "File_format = 'GTiff'\n",
    "datatype = gdal.GDT_Float32\n",
    "Nodata_value = -9999\n",
    "Create_opt = ['COMPRESS=LZW','NUM_THREADS=ALL_CPUS','PREDICTOR=3']\n",
    "\n",
    "Warp_opt = gdal.WarpOptions(format=File_format, outputType=gdal.GDT_Float32,dstNodata=Nodata_value, \\\n",
    "                            dstSRS=Reproj, creationOptions=Create_opt,cutlineDSName=Shape_name, cropToCutline=True)\n",
    "\n",
    "gdal.Warp(OutputFile, InputFile,options=Warp_opt)"
   ]
  },
  {
   "cell_type": "code",
   "execution_count": 13,
   "metadata": {},
   "outputs": [
    {
     "name": "stdout",
     "output_type": "stream",
     "text": [
      "[[-9.999e+03 -9.999e+03 -9.999e+03 -9.999e+03 -9.999e+03 -9.999e+03\n",
      "  -9.999e+03 -9.999e+03 -9.999e+03 -9.999e+03 -9.999e+03 -9.999e+03\n",
      "  -9.999e+03 -9.999e+03 -9.999e+03 -9.999e+03 -9.999e+03 -9.999e+03]\n",
      " [-9.999e+03 -9.999e+03 -9.999e+03 -9.999e+03 -9.999e+03 -9.999e+03\n",
      "  -9.999e+03 -9.999e+03  1.000e+00  1.000e+00  1.000e+00  1.000e+00\n",
      "  -9.999e+03 -9.999e+03 -9.999e+03 -9.999e+03 -9.999e+03 -9.999e+03]\n",
      " [-9.999e+03 -9.999e+03 -9.999e+03  1.000e+00  1.000e+00  1.000e+00\n",
      "   1.000e+00  1.000e+00  1.000e+00  1.000e+00  1.000e+00  9.000e+00\n",
      "  -9.999e+03 -9.999e+03 -9.999e+03 -9.999e+03 -9.999e+03 -9.999e+03]\n",
      " [ 1.000e+00  1.000e+00  2.000e+00  1.000e+00  1.000e+00  2.000e+00\n",
      "   2.000e+00  2.000e+00  2.000e+00  1.000e+00  4.000e+00  1.200e+01\n",
      "   1.000e+00  1.000e+00 -9.999e+03 -9.999e+03 -9.999e+03 -9.999e+03]\n",
      " [-9.999e+03 -9.999e+03  1.000e+00  5.000e+00  1.000e+00  2.000e+00\n",
      "   1.800e+01  5.000e+00  1.000e+00  1.000e+00  1.000e+00  1.800e+01\n",
      "   3.000e+00  1.000e+00  1.000e+00  2.000e+00 -9.999e+03 -9.999e+03]\n",
      " [-9.999e+03 -9.999e+03 -9.999e+03  1.000e+00  7.000e+00  1.100e+01\n",
      "   2.000e+00  2.700e+01  3.000e+01  3.300e+01  1.000e+00  1.000e+00\n",
      "   2.200e+01  1.000e+00  2.000e+00  1.000e+00  1.000e+00 -9.999e+03]\n",
      " [-9.999e+03 -9.999e+03 -9.999e+03 -9.999e+03 -9.999e+03 -9.999e+03\n",
      "   1.000e+00  1.000e+00  1.000e+00  3.000e+00  4.100e+01  2.000e+00\n",
      "   7.200e+01  7.500e+01  8.200e+01  3.000e+00  1.000e+00 -9.999e+03]\n",
      " [-9.999e+03 -9.999e+03 -9.999e+03 -9.999e+03 -9.999e+03 -9.999e+03\n",
      "  -9.999e+03 -9.999e+03  1.000e+00  1.000e+00  1.000e+00  4.600e+01\n",
      "   1.000e+00  1.000e+00  1.000e+00  8.400e+01  3.000e+00  1.000e+00]\n",
      " [-9.999e+03 -9.999e+03 -9.999e+03 -9.999e+03 -9.999e+03 -9.999e+03\n",
      "  -9.999e+03 -9.999e+03 -9.999e+03 -9.999e+03  1.000e+00  1.000e+00\n",
      "   1.000e+00 -9.999e+03 -9.999e+03 -9.999e+03  9.000e+01 -9.999e+03]\n",
      " [-9.999e+03 -9.999e+03 -9.999e+03 -9.999e+03 -9.999e+03 -9.999e+03\n",
      "  -9.999e+03 -9.999e+03 -9.999e+03 -9.999e+03 -9.999e+03  1.000e+00\n",
      "  -9.999e+03 -9.999e+03 -9.999e+03 -9.999e+03 -9.999e+03 -9.999e+03]]\n"
     ]
    }
   ],
   "source": [
    "print(gdal.Open('fac.tif').ReadAsArray())"
   ]
  },
  {
   "cell_type": "code",
   "execution_count": 22,
   "metadata": {},
   "outputs": [
    {
     "data": {
      "text/plain": [
       "<osgeo.gdal.Dataset; proxy of <Swig Object of type 'GDALDatasetShadow *' at 0x7fb7d3db5b10> >"
      ]
     },
     "execution_count": 22,
     "metadata": {},
     "output_type": "execute_result"
    }
   ],
   "source": [
    "Shape_name = 'example_basin.shp'\n",
    "OutputFile = 'ddm.tif'\n",
    "InputFile = 'na_dir_30s.bil'\n",
    "Reproj = 'EPSG:4269'\n",
    "File_format = 'GTiff'\n",
    "datatype = gdal.GDT_Float32\n",
    "Create_opt = ['COMPRESS=LZW','NUM_THREADS=ALL_CPUS','PREDICTOR=3']\n",
    "\n",
    "Warp_opt = gdal.WarpOptions(format=File_format, outputType=gdal.GDT_Float32,dstNodata=-9999,\\\n",
    "                            dstSRS=Reproj, creationOptions=Create_opt,cutlineDSName=Shape_name, cropToCutline=True)\n",
    "\n",
    "gdal.Warp(OutputFile, InputFile,options=Warp_opt)"
   ]
  },
  {
   "cell_type": "code",
   "execution_count": 23,
   "metadata": {},
   "outputs": [
    {
     "name": "stdout",
     "output_type": "stream",
     "text": [
      "[[-9.999e+03 -9.999e+03 -9.999e+03 -9.999e+03 -9.999e+03 -9.999e+03\n",
      "  -9.999e+03 -9.999e+03 -9.999e+03 -9.999e+03 -9.999e+03 -9.999e+03\n",
      "  -9.999e+03 -9.999e+03 -9.999e+03 -9.999e+03 -9.999e+03 -9.999e+03]\n",
      " [-9.999e+03 -9.999e+03 -9.999e+03 -9.999e+03 -9.999e+03 -9.999e+03\n",
      "  -9.999e+03 -9.999e+03  6.400e+01  3.200e+01  3.200e+01  1.280e+02\n",
      "  -9.999e+03 -9.999e+03 -9.999e+03 -9.999e+03 -9.999e+03 -9.999e+03]\n",
      " [-9.999e+03 -9.999e+03 -9.999e+03  3.200e+01  3.200e+01  4.000e+00\n",
      "   4.000e+00  4.000e+00  4.000e+00  2.000e+00  4.000e+00  4.000e+00\n",
      "  -9.999e+03 -9.999e+03 -9.999e+03 -9.999e+03 -9.999e+03 -9.999e+03]\n",
      " [ 3.200e+01  1.000e+00  2.000e+00  4.000e+00  2.000e+00  2.000e+00\n",
      "   4.000e+00  4.000e+00  8.000e+00  1.000e+00  2.000e+00  4.000e+00\n",
      "   1.600e+01  8.000e+00 -9.999e+03 -9.999e+03 -9.999e+03 -9.999e+03]\n",
      " [-9.999e+03 -9.999e+03  1.000e+00  2.000e+00  2.000e+00  1.000e+00\n",
      "   2.000e+00  4.000e+00  4.000e+00  4.000e+00  8.000e+00  2.000e+00\n",
      "   4.000e+00  1.600e+01  4.000e+00  1.000e+00 -9.999e+03 -9.999e+03]\n",
      " [-9.999e+03 -9.999e+03 -9.999e+03  1.000e+00  1.000e+00  1.280e+02\n",
      "   1.000e+00  1.000e+00  1.000e+00  2.000e+00  4.000e+00  4.000e+00\n",
      "   4.000e+00  4.000e+00  4.000e+00  4.000e+00  8.000e+00 -9.999e+03]\n",
      " [-9.999e+03 -9.999e+03 -9.999e+03 -9.999e+03 -9.999e+03 -9.999e+03\n",
      "   6.400e+01  6.400e+01  6.400e+01  1.000e+00  2.000e+00  1.000e+00\n",
      "   1.000e+00  1.000e+00  2.000e+00  1.600e+01  4.000e+00 -9.999e+03]\n",
      " [-9.999e+03 -9.999e+03 -9.999e+03 -9.999e+03 -9.999e+03 -9.999e+03\n",
      "  -9.999e+03 -9.999e+03  1.280e+02  6.400e+01  6.400e+01  1.280e+02\n",
      "   6.400e+01  6.400e+01  6.400e+01  2.000e+00  4.000e+00  1.600e+01]\n",
      " [-9.999e+03 -9.999e+03 -9.999e+03 -9.999e+03 -9.999e+03 -9.999e+03\n",
      "  -9.999e+03 -9.999e+03 -9.999e+03 -9.999e+03  4.000e+00  6.400e+01\n",
      "   3.200e+01 -9.999e+03 -9.999e+03 -9.999e+03  4.000e+00 -9.999e+03]\n",
      " [-9.999e+03 -9.999e+03 -9.999e+03 -9.999e+03 -9.999e+03 -9.999e+03\n",
      "  -9.999e+03 -9.999e+03 -9.999e+03 -9.999e+03 -9.999e+03  8.000e+00\n",
      "  -9.999e+03 -9.999e+03 -9.999e+03 -9.999e+03 -9.999e+03 -9.999e+03]]\n"
     ]
    }
   ],
   "source": [
    "print(gdal.Open('ddm.tif').ReadAsArray())"
   ]
  },
  {
   "cell_type": "code",
   "execution_count": 9,
   "metadata": {},
   "outputs": [
    {
     "name": "stdout",
     "output_type": "stream",
     "text": [
      "Driver: GTiff/GeoTIFF\n",
      "Files: ddm_t.tif\n",
      "Size is 10320, 4440\n",
      "Coordinate System is:\n",
      "GEOGCS[\"NAD83\",\n",
      "    DATUM[\"North_American_Datum_1983\",\n",
      "        SPHEROID[\"GRS 1980\",6378137,298.2572221010042,\n",
      "            AUTHORITY[\"EPSG\",\"7019\"]],\n",
      "        TOWGS84[0,0,0,0,0,0,0],\n",
      "        AUTHORITY[\"EPSG\",\"6269\"]],\n",
      "    PRIMEM[\"Greenwich\",0],\n",
      "    UNIT[\"degree\",0.0174532925199433],\n",
      "    AUTHORITY[\"EPSG\",\"4269\"]]\n",
      "Origin = (-138.000000000000000,60.999999999999993)\n",
      "Pixel Size = (0.008333333333333,-0.008333333333333)\n",
      "Metadata:\n",
      "  AREA_OR_POINT=Area\n",
      "Image Structure Metadata:\n",
      "  COMPRESSION=LZW\n",
      "  INTERLEAVE=BAND\n",
      "Corner Coordinates:\n",
      "Upper Left  (-138.0000000,  61.0000000) (138d 0' 0.00\"W, 61d 0' 0.00\"N)\n",
      "Lower Left  (-138.0000000,  24.0000000) (138d 0' 0.00\"W, 24d 0' 0.00\"N)\n",
      "Upper Right ( -52.0000000,  61.0000000) ( 52d 0' 0.00\"W, 61d 0' 0.00\"N)\n",
      "Lower Right ( -52.0000000,  24.0000000) ( 52d 0' 0.00\"W, 24d 0' 0.00\"N)\n",
      "Center      ( -95.0000000,  42.5000000) ( 95d 0' 0.00\"W, 42d30' 0.00\"N)\n",
      "Band 1 Block=10320x1 Type=Float32, ColorInterp=Gray\n",
      "  NoData Value=-9999\n",
      "\n"
     ]
    }
   ],
   "source": [
    "print(gdal.Info(gdal.Open('ddm_t.tif')))"
   ]
  }
 ],
 "metadata": {
  "kernelspec": {
   "display_name": "Python 3",
   "language": "python",
   "name": "python3"
  },
  "language_info": {
   "codemirror_mode": {
    "name": "ipython",
    "version": 3
   },
   "file_extension": ".py",
   "mimetype": "text/x-python",
   "name": "python",
   "nbconvert_exporter": "python",
   "pygments_lexer": "ipython3",
   "version": "3.7.3"
  }
 },
 "nbformat": 4,
 "nbformat_minor": 2
}
