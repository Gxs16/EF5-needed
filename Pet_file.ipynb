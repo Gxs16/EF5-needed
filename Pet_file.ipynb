{
 "cells": [
  {
   "cell_type": "markdown",
   "metadata": {},
   "source": [
    "# Operate pet file\n",
    "Unzip the pet files and convert them to geotiff format"
   ]
  },
  {
   "cell_type": "code",
   "execution_count": null,
   "metadata": {},
   "outputs": [],
   "source": [
    "import gzip\n",
    "from osgeo import gdal, ogr\n",
    "import os\n",
    "import numpy as np\n",
    "import tarfile"
   ]
  },
  {
   "cell_type": "code",
   "execution_count": null,
   "metadata": {},
   "outputs": [],
   "source": [
    "files = os.listdir('pet2016/')\n",
    "for filename in files:\n",
    "    files_decompression = filename.replace('.gz','')\n",
    "    with gzip.open('pet2016/'+filename) as f:\n",
    "        open('pet2016/'+files_decompression,'wb').write(f.read())\n",
    "    os.remove('pet2016/'+filename)"
   ]
  },
  {
   "cell_type": "code",
   "execution_count": null,
   "metadata": {},
   "outputs": [],
   "source": [
    "files = os.listdir('pet2016/')\n",
    "for filename in files:\n",
    "    file_untar = tarfile.open('pet2016/'+filename)\n",
    "    names = file_untar.getnames()\n",
    "    for name in names:\n",
    "        file_untar.extract(name,'pet2016/')\n",
    "    file_untar.close()"
   ]
  },
  {
   "cell_type": "code",
   "execution_count": null,
   "metadata": {},
   "outputs": [],
   "source": [
    "import re\n",
    "import shutil\n",
    "files = os.listdir('pet2016/')\n",
    "suffix = re.compile(r'.bil$')\n",
    "old_files = list(filter(suffix.search, files))\n",
    "for file in old_files:\n",
    "    shutil.move('pet2016/'+file,'./')"
   ]
  },
  {
   "cell_type": "code",
   "execution_count": null,
   "metadata": {},
   "outputs": [],
   "source": [
    "import re\n",
    "files = os.listdir('.')\n",
    "suffix = re.compile(r'.bil$')\n",
    "new_files = list(filter(suffix.search, files))\n",
    "Shape_name = 'example_basin.shp'\n",
    "Reproj = 'EPSG:4269'\n",
    "File_format = 'GTiff'\n",
    "datatype = gdal.GDT_Float32\n",
    "Nodata_value = -9999\n",
    "Create_opt = ['COMPRESS=LZW','NUM_THREADS=ALL_CPUS','PREDICTOR=3']\n",
    "\n",
    "Warp_opt = gdal.TranslateOptions(format=File_format, outputType=gdal.GDT_Float32)\n",
    "\n",
    "for name in new_files:\n",
    "    out = name.replace('bil','tif')\n",
    "    out = out.replace('et','ET_20')\n",
    "    gdal.Translate(out, name, options=Warp_opt)\n"
   ]
  },
  {
   "cell_type": "code",
   "execution_count": null,
   "metadata": {},
   "outputs": [],
   "source": [
    "import re\n",
    "files = os.listdir('.')\n",
    "suffix = re.compile(r'.tif$')\n",
    "new_files = list(filter(suffix.search, files))\n",
    "Shape_name = 'example_basin.shp'\n",
    "Reproj = 'EPSG:4269'\n",
    "File_format = 'GTiff'\n",
    "datatype = gdal.GDT_Float32\n",
    "Nodata_value = -9999\n",
    "Create_opt = ['COMPRESS=LZW','NUM_THREADS=ALL_CPUS','PREDICTOR=3']\n",
    "\n",
    "Warp_opt = gdal.WarpOptions(format=File_format, outputType=gdal.GDT_Float32,dstNodata=Nodata_value, \\\n",
    "                            dstSRS=Reproj, creationOptions=Create_opt, cutlineDSName=Shape_name, \\\n",
    "                            cropToCutline=True)\n",
    "\n",
    "for name in new_files:\n",
    "    out = name.replace('ET','Et')\n",
    "    print(out)\n",
    "    gdal.Warp(out, name, options=Warp_opt)"
   ]
  }
 ],
 "metadata": {
  "kernelspec": {
   "display_name": "Python 3",
   "language": "python",
   "name": "python3"
  },
  "language_info": {
   "codemirror_mode": {
    "name": "ipython",
    "version": 3
   },
   "file_extension": ".py",
   "mimetype": "text/x-python",
   "name": "python",
   "nbconvert_exporter": "python",
   "pygments_lexer": "ipython3",
   "version": "3.7.3"
  }
 },
 "nbformat": 4,
 "nbformat_minor": 2
}
