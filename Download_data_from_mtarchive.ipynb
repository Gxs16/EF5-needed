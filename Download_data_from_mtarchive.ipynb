{
 "cells": [
  {
   "cell_type": "markdown",
   "metadata": {},
   "source": [
    "# Download data from  http://mtarchive.geol.iastate.edu/"
   ]
  },
  {
   "cell_type": "code",
   "execution_count": 1,
   "metadata": {},
   "outputs": [],
   "source": [
    "import os\n",
    "import pandas as pd \n",
    "\n",
    "date_list = pd.date_range(r'2016/01/01',r'2016/12/31')\n",
    "date_list = [date.strftime('%Y/%m/%d') for date in date_list]\n",
    "for i in date_list:\n",
    "    os.system('wget -r -np http://mtarchive.geol.iastate.edu/'+i+'/mrms/ncep/GaugeCorr_QPE_01H/')"
   ]
  }
 ],
 "metadata": {
  "kernelspec": {
   "display_name": "Python 3",
   "language": "python",
   "name": "python3"
  },
  "language_info": {
   "codemirror_mode": {
    "name": "ipython",
    "version": 3
   },
   "file_extension": ".py",
   "mimetype": "text/x-python",
   "name": "python",
   "nbconvert_exporter": "python",
   "pygments_lexer": "ipython3",
   "version": "3.7.3"
  }
 },
 "nbformat": 4,
 "nbformat_minor": 2
}
