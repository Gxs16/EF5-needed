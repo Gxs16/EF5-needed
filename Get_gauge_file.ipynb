{
 "cells": [
  {
   "cell_type": "markdown",
   "metadata": {},
   "source": [
    "# Get Gauge from usgs.gov\n",
    "Read the web page and save the data to a .csv file"
   ]
  },
  {
   "cell_type": "code",
   "execution_count": 1,
   "metadata": {},
   "outputs": [],
   "source": [
    "import urllib\n",
    "import re\n",
    "import pandas as pd"
   ]
  },
  {
   "cell_type": "code",
   "execution_count": null,
   "metadata": {},
   "outputs": [],
   "source": [
    "data_format = 'rdb'\n",
    "site_number = '08068400'\n",
    "peroid = ''\n",
    "begin_date = '2016-01-01'\n",
    "end_date = '2016-12-31'\n",
    "#'https://nwis.waterdata.usgs.gov/tx/nwis/uv?cb_00060=on&format=rdb&site_no=08068400&period=&begin_date=2016-01-01&end_date=2016-12-31'"
   ]
  },
  {
   "cell_type": "code",
   "execution_count": 2,
   "metadata": {
    "scrolled": true
   },
   "outputs": [],
   "source": [
    "url = 'https://nwis.waterdata.usgs.gov/tx/nwis/uv?cb_00060=on&format='+data_format+'&site_no='+site_number+\\\n",
    "        '&period='+peroid+'&begin_date='+begin_date+'&end_date='+end_date\n",
    "page=urllib.request.urlopen(url)\n",
    "text = page.read()\n",
    "text = text.decode('utf-8')\n",
    "text = text.splitlines()"
   ]
  },
  {
   "cell_type": "code",
   "execution_count": 3,
   "metadata": {},
   "outputs": [],
   "source": [
    "with open('data.txt','w') as f:\n",
    "    for line in text:\n",
    "        if '#' not in line:\n",
    "            f.write(line+'\\n')\n",
    "f.close()"
   ]
  },
  {
   "cell_type": "code",
   "execution_count": 4,
   "metadata": {
    "scrolled": true
   },
   "outputs": [],
   "source": [
    "import pandas as pd\n",
    "data = pd.read_csv('data.txt',sep='\\t')\n",
    "observation = data[['datetime','140296_00060']][1:]"
   ]
  },
  {
   "cell_type": "code",
   "execution_count": 5,
   "metadata": {
    "scrolled": true
   },
   "outputs": [],
   "source": [
    "#observation.reindex(columns=['Time(UTC)','(cms)'])\n",
    "data = observation.rename(columns={'datetime':'Time(UTC)','140296_00060':'(cms)'}).reset_index(drop=True)\n"
   ]
  },
  {
   "cell_type": "code",
   "execution_count": 8,
   "metadata": {
    "scrolled": true
   },
   "outputs": [],
   "source": [
    "data.to_csv('data.csv',index=False)"
   ]
  }
 ],
 "metadata": {
  "kernelspec": {
   "display_name": "Python 3",
   "language": "python",
   "name": "python3"
  },
  "language_info": {
   "codemirror_mode": {
    "name": "ipython",
    "version": 3
   },
   "file_extension": ".py",
   "mimetype": "text/x-python",
   "name": "python",
   "nbconvert_exporter": "python",
   "pygments_lexer": "ipython3",
   "version": "3.7.3"
  }
 },
 "nbformat": 4,
 "nbformat_minor": 2
}
